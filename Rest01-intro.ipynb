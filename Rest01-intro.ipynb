{
 "cells": [
  {
   "cell_type": "markdown",
   "metadata": {},
   "source": [
    "<h1>Capstone Project: Battle of the Neighbourhoods</h1>\n",
    "\n",
    "<h2>Open a new restaurant in Toronto</h2>\n",
    "\n",
    "## Table of Contents\n",
    "\n",
    "<div class=\"alert alert-block alert-info\" style=\"margin-top: 20px\">\n",
    "\n",
    "<font size = 3>\n",
    "\n",
    "1. <a href=\"#item1\">Introduction</a>\n",
    "\n",
    "2. <a href=\"#item2\">Data</a> \n",
    "\n",
    "</font>\n",
    "</div>"
   ]
  },
  {
   "cell_type": "markdown",
   "metadata": {},
   "source": [
    "## 1 Introduction\n",
    "The entrepreneur is planing to open a new restaurant in Toronto, but he is not sure which localtion would be most appropriate for his new venue. \n",
    "We noticed that the Toronto already has a lot of restaurants in town, but we need to help this entrepreneur to find this location."
   ]
  },
  {
   "cell_type": "markdown",
   "metadata": {},
   "source": [
    "## 2 Data\n",
    "We have to discover the most important factors that contribute to the restaurant’s success.\n",
    "We can expect this factors to be among the following list: neighborhood wealth, accessibility, crime rates, visibility, competition, etc.\n",
    "We should use the datasets from Toronto Opendata website to address some of these considerations. \n",
    "\n",
    "From there, we can access the city’s average housing prices list. We will be working with Get Wellbeing Toronto - Economics data set that includes average house price by Neighborhood. \n",
    "Also we will be using the Foursquare location data to retrieve the food venues. We would use Foursquare location data in conjunction with the average average house price by Neighborhood to determine the best possible location for a new restaurant."
   ]
  },
  {
   "cell_type": "code",
   "execution_count": null,
   "metadata": {},
   "outputs": [],
   "source": []
  },
  {
   "cell_type": "code",
   "execution_count": null,
   "metadata": {},
   "outputs": [],
   "source": []
  },
  {
   "cell_type": "code",
   "execution_count": null,
   "metadata": {},
   "outputs": [],
   "source": []
  }
 ],
 "metadata": {
  "kernelspec": {
   "display_name": "Python 3",
   "language": "python",
   "name": "python3"
  },
  "language_info": {
   "codemirror_mode": {
    "name": "ipython",
    "version": 3
   },
   "file_extension": ".py",
   "mimetype": "text/x-python",
   "name": "python",
   "nbconvert_exporter": "python",
   "pygments_lexer": "ipython3",
   "version": "3.6.8"
  }
 },
 "nbformat": 4,
 "nbformat_minor": 2
}
